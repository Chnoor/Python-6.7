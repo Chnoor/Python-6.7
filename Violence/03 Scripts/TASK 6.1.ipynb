{
 "cells": [
  {
   "cell_type": "markdown",
   "id": "68b525f5-91f5-49bf-b907-84eafc4de0c1",
   "metadata": {
    "tags": []
   },
   "source": [
    "## Steps in this notebook Task 61\n",
    "\n",
    "- Step 1: importing dataframe\n",
    "- Step 2: Wrangling dataframe\n",
    "- Step 3: chekcing for consistency\n",
    "- Step 4: deleting unnecessary entries\n",
    "- Step 5: creating new EU Region column"
   ]
  },
  {
   "cell_type": "code",
   "execution_count": 1,
   "id": "fb25a5c0-c963-4723-acbb-3491e059f2fd",
   "metadata": {},
   "outputs": [],
   "source": [
    "# Importing libraries\n",
    "import pandas as pd\n",
    "import numpy as np\n",
    "import os\n",
    "import matplotlib.pyplot as plt\n",
    "import seaborn as sns\n",
    "import scipy"
   ]
  },
  {
   "cell_type": "markdown",
   "id": "89e922f6-0227-444c-8c6b-d5d0e71e8e5b",
   "metadata": {},
   "source": [
    "## Step 1. Importing Dataframes"
   ]
  },
  {
   "cell_type": "code",
   "execution_count": 2,
   "id": "e8a6bd60-ee5d-444b-9002-509340502841",
   "metadata": {},
   "outputs": [],
   "source": [
    "# Creating path\n",
    "path =r'/Users/parvinrahimi/Desktop/Data/Data Immersion/Achievement 6/Violence'"
   ]
  },
  {
   "cell_type": "code",
   "execution_count": 3,
   "id": "b38ff2f2-f3f2-4c53-904e-97a0939456f3",
   "metadata": {
    "tags": []
   },
   "outputs": [],
   "source": [
    "# Importing dataframes\n",
    "df_v = pd.read_csv(os.path.join(path, '02 Data','Original Data','violence original data.csv'))"
   ]
  },
  {
   "cell_type": "markdown",
   "id": "4a2ee34f-e29c-4056-af53-d330093c54e9",
   "metadata": {},
   "source": [
    "## Step 2. Wrangling the Dataframe"
   ]
  },
  {
   "cell_type": "code",
   "execution_count": 4,
   "id": "819159f1-5011-4669-921f-91cde1f2b6a7",
   "metadata": {},
   "outputs": [
    {
     "data": {
      "text/html": [
       "<div>\n",
       "<style scoped>\n",
       "    .dataframe tbody tr th:only-of-type {\n",
       "        vertical-align: middle;\n",
       "    }\n",
       "\n",
       "    .dataframe tbody tr th {\n",
       "        vertical-align: top;\n",
       "    }\n",
       "\n",
       "    .dataframe thead th {\n",
       "        text-align: right;\n",
       "    }\n",
       "</style>\n",
       "<table border=\"1\" class=\"dataframe\">\n",
       "  <thead>\n",
       "    <tr style=\"text-align: right;\">\n",
       "      <th></th>\n",
       "      <th>Indicator Name</th>\n",
       "      <th>Indicator Code</th>\n",
       "      <th>Country Name</th>\n",
       "      <th>Country Code</th>\n",
       "      <th>Year</th>\n",
       "      <th>Value</th>\n",
       "    </tr>\n",
       "  </thead>\n",
       "  <tbody>\n",
       "    <tr>\n",
       "      <th>0</th>\n",
       "      <td>Criminal penalties or civil remedies exist for...</td>\n",
       "      <td>SG.PEN.SXHR.EM</td>\n",
       "      <td>Afghanistan</td>\n",
       "      <td>AFG</td>\n",
       "      <td>2022</td>\n",
       "      <td>1.0</td>\n",
       "    </tr>\n",
       "    <tr>\n",
       "      <th>1</th>\n",
       "      <td>Criminal penalties or civil remedies exist for...</td>\n",
       "      <td>SG.PEN.SXHR.EM</td>\n",
       "      <td>Afghanistan</td>\n",
       "      <td>AFG</td>\n",
       "      <td>2021</td>\n",
       "      <td>1.0</td>\n",
       "    </tr>\n",
       "    <tr>\n",
       "      <th>2</th>\n",
       "      <td>Criminal penalties or civil remedies exist for...</td>\n",
       "      <td>SG.PEN.SXHR.EM</td>\n",
       "      <td>Afghanistan</td>\n",
       "      <td>AFG</td>\n",
       "      <td>2020</td>\n",
       "      <td>1.0</td>\n",
       "    </tr>\n",
       "    <tr>\n",
       "      <th>3</th>\n",
       "      <td>Criminal penalties or civil remedies exist for...</td>\n",
       "      <td>SG.PEN.SXHR.EM</td>\n",
       "      <td>Afghanistan</td>\n",
       "      <td>AFG</td>\n",
       "      <td>2019</td>\n",
       "      <td>1.0</td>\n",
       "    </tr>\n",
       "    <tr>\n",
       "      <th>4</th>\n",
       "      <td>Criminal penalties or civil remedies exist for...</td>\n",
       "      <td>SG.PEN.SXHR.EM</td>\n",
       "      <td>Afghanistan</td>\n",
       "      <td>AFG</td>\n",
       "      <td>2018</td>\n",
       "      <td>1.0</td>\n",
       "    </tr>\n",
       "  </tbody>\n",
       "</table>\n",
       "</div>"
      ],
      "text/plain": [
       "                                      Indicator Name  Indicator Code  \\\n",
       "0  Criminal penalties or civil remedies exist for...  SG.PEN.SXHR.EM   \n",
       "1  Criminal penalties or civil remedies exist for...  SG.PEN.SXHR.EM   \n",
       "2  Criminal penalties or civil remedies exist for...  SG.PEN.SXHR.EM   \n",
       "3  Criminal penalties or civil remedies exist for...  SG.PEN.SXHR.EM   \n",
       "4  Criminal penalties or civil remedies exist for...  SG.PEN.SXHR.EM   \n",
       "\n",
       "  Country Name Country Code  Year  Value  \n",
       "0  Afghanistan          AFG  2022    1.0  \n",
       "1  Afghanistan          AFG  2021    1.0  \n",
       "2  Afghanistan          AFG  2020    1.0  \n",
       "3  Afghanistan          AFG  2019    1.0  \n",
       "4  Afghanistan          AFG  2018    1.0  "
      ]
     },
     "execution_count": 4,
     "metadata": {},
     "output_type": "execute_result"
    }
   ],
   "source": [
    "df_v.head()"
   ]
  },
  {
   "cell_type": "code",
   "execution_count": 5,
   "id": "e4b944f5-667b-471a-b11f-5fb06d5821c9",
   "metadata": {},
   "outputs": [
    {
     "data": {
      "text/html": [
       "<div>\n",
       "<style scoped>\n",
       "    .dataframe tbody tr th:only-of-type {\n",
       "        vertical-align: middle;\n",
       "    }\n",
       "\n",
       "    .dataframe tbody tr th {\n",
       "        vertical-align: top;\n",
       "    }\n",
       "\n",
       "    .dataframe thead th {\n",
       "        text-align: right;\n",
       "    }\n",
       "</style>\n",
       "<table border=\"1\" class=\"dataframe\">\n",
       "  <thead>\n",
       "    <tr style=\"text-align: right;\">\n",
       "      <th></th>\n",
       "      <th>Year</th>\n",
       "      <th>Value</th>\n",
       "    </tr>\n",
       "  </thead>\n",
       "  <tbody>\n",
       "    <tr>\n",
       "      <th>count</th>\n",
       "      <td>67807.000000</td>\n",
       "      <td>67807.000000</td>\n",
       "    </tr>\n",
       "    <tr>\n",
       "      <th>mean</th>\n",
       "      <td>2003.399177</td>\n",
       "      <td>10.398326</td>\n",
       "    </tr>\n",
       "    <tr>\n",
       "      <th>std</th>\n",
       "      <td>13.163188</td>\n",
       "      <td>19.263239</td>\n",
       "    </tr>\n",
       "    <tr>\n",
       "      <th>min</th>\n",
       "      <td>1970.000000</td>\n",
       "      <td>0.000000</td>\n",
       "    </tr>\n",
       "    <tr>\n",
       "      <th>25%</th>\n",
       "      <td>1997.000000</td>\n",
       "      <td>0.000000</td>\n",
       "    </tr>\n",
       "    <tr>\n",
       "      <th>50%</th>\n",
       "      <td>2006.000000</td>\n",
       "      <td>1.262381</td>\n",
       "    </tr>\n",
       "    <tr>\n",
       "      <th>75%</th>\n",
       "      <td>2014.000000</td>\n",
       "      <td>10.700000</td>\n",
       "    </tr>\n",
       "    <tr>\n",
       "      <th>max</th>\n",
       "      <td>2022.000000</td>\n",
       "      <td>204.331133</td>\n",
       "    </tr>\n",
       "  </tbody>\n",
       "</table>\n",
       "</div>"
      ],
      "text/plain": [
       "               Year         Value\n",
       "count  67807.000000  67807.000000\n",
       "mean    2003.399177     10.398326\n",
       "std       13.163188     19.263239\n",
       "min     1970.000000      0.000000\n",
       "25%     1997.000000      0.000000\n",
       "50%     2006.000000      1.262381\n",
       "75%     2014.000000     10.700000\n",
       "max     2022.000000    204.331133"
      ]
     },
     "execution_count": 5,
     "metadata": {},
     "output_type": "execute_result"
    }
   ],
   "source": [
    "# describe dataframe\n",
    "df_v.describe()"
   ]
  },
  {
   "cell_type": "code",
   "execution_count": 6,
   "id": "a9f11746-4861-4b7e-a546-61fcd189b051",
   "metadata": {},
   "outputs": [
    {
     "data": {
      "text/plain": [
       "Indicator Name     object\n",
       "Indicator Code     object\n",
       "Country Name       object\n",
       "Country Code       object\n",
       "Year                int64\n",
       "Value             float64\n",
       "dtype: object"
      ]
     },
     "execution_count": 6,
     "metadata": {},
     "output_type": "execute_result"
    }
   ],
   "source": [
    "# datatypes of dataframe\n",
    "df_v.dtypes"
   ]
  },
  {
   "cell_type": "code",
   "execution_count": 7,
   "id": "47d0b766",
   "metadata": {},
   "outputs": [],
   "source": [
    "# changing the type of column year to string for consistency reasons\n",
    "df_v['Year'] = df_v['Year'].astype('str')"
   ]
  },
  {
   "cell_type": "code",
   "execution_count": 8,
   "id": "1ee4c1cb",
   "metadata": {},
   "outputs": [],
   "source": [
    "# changing the type of column value to int64 for consistency reasons \n",
    "df_v['Value'] = df_v['Value'].astype('int64')"
   ]
  },
  {
   "cell_type": "code",
   "execution_count": 9,
   "id": "2668df60",
   "metadata": {},
   "outputs": [
    {
     "data": {
      "text/plain": [
       "Indicator Name    object\n",
       "Indicator Code    object\n",
       "Country Name      object\n",
       "Country Code      object\n",
       "Year              object\n",
       "Value              int64\n",
       "dtype: object"
      ]
     },
     "execution_count": 9,
     "metadata": {},
     "output_type": "execute_result"
    }
   ],
   "source": [
    "# datatypes of dataframe\n",
    "df_v.dtypes"
   ]
  },
  {
   "cell_type": "markdown",
   "id": "1a814d02-9756-4d47-a138-0fd883b0c9a9",
   "metadata": {},
   "source": [
    "#### Dataframe seems to be consistent"
   ]
  },
  {
   "cell_type": "code",
   "execution_count": 10,
   "id": "296c25b1-26f9-4aae-96ed-f3002d41da3b",
   "metadata": {},
   "outputs": [
    {
     "data": {
      "text/plain": [
       "(67807, 6)"
      ]
     },
     "execution_count": 10,
     "metadata": {},
     "output_type": "execute_result"
    }
   ],
   "source": [
    "# number of rows and columns\n",
    "df_v.shape"
   ]
  },
  {
   "cell_type": "markdown",
   "id": "39fc8328-cb07-4a7b-9711-226de51b09fc",
   "metadata": {},
   "source": [
    "## Step 3. checking the Consistency: "
   ]
  },
  {
   "cell_type": "code",
   "execution_count": 11,
   "id": "6313f68c-6b0f-4fad-bf14-91a0a4dc15ae",
   "metadata": {},
   "outputs": [],
   "source": [
    "# Check if dataframe contains mixed type columns\n",
    "for col in df_v.columns.tolist():\n",
    "  weird = (df_v[[col]].applymap(type) != df_v[[col]].iloc[0].apply(type)).any(axis = 1)\n",
    "  if len (df_v[weird]) > 0:\n",
    "    print (col)"
   ]
  },
  {
   "cell_type": "code",
   "execution_count": 12,
   "id": "c85bb606-800e-40ba-9c0b-f35fd9e6b742",
   "metadata": {},
   "outputs": [
    {
     "data": {
      "text/plain": [
       "Indicator Name    0\n",
       "Indicator Code    0\n",
       "Country Name      0\n",
       "Country Code      0\n",
       "Year              0\n",
       "Value             0\n",
       "dtype: int64"
      ]
     },
     "execution_count": 12,
     "metadata": {},
     "output_type": "execute_result"
    }
   ],
   "source": [
    "# Finding missing values\n",
    "df_v.isnull().sum()"
   ]
  },
  {
   "cell_type": "markdown",
   "id": "e1a75d83-ca32-4ee7-8f9a-66459dd3d181",
   "metadata": {},
   "source": [
    "### There are no missing data."
   ]
  },
  {
   "cell_type": "code",
   "execution_count": 13,
   "id": "7529c590-f460-4a0d-b250-476f0192c417",
   "metadata": {
    "tags": []
   },
   "outputs": [],
   "source": [
    "# looking for full duplicates\n",
    "df_dup = df_v[df_v.duplicated()]"
   ]
  },
  {
   "cell_type": "markdown",
   "id": "1092a83b-d02b-4718-8227-a9caa1ee7d4b",
   "metadata": {},
   "source": [
    "### There are no duplicates."
   ]
  },
  {
   "cell_type": "markdown",
   "id": "47a3481a-eb5b-4f57-b735-98dfd92e2cee",
   "metadata": {},
   "source": [
    "## Exporting Dataframe"
   ]
  },
  {
   "cell_type": "code",
   "execution_count": 14,
   "id": "428631e0-6122-4e7c-8dd3-89e5e6509760",
   "metadata": {},
   "outputs": [],
   "source": [
    "# exporting as pkl\n",
    "df_v.to_pickle(os.path.join(path, '02 Data', 'Clean Data', 'violence_clean.pkl'))"
   ]
  },
  {
   "cell_type": "markdown",
   "id": "b9cb6276",
   "metadata": {},
   "source": [
    "## Step 4. Deleting Unnecessary Data:"
   ]
  },
  {
   "cell_type": "code",
   "execution_count": 15,
   "id": "2a8188f4",
   "metadata": {},
   "outputs": [
    {
     "data": {
      "text/plain": [
       "(67807, 6)"
      ]
     },
     "execution_count": 15,
     "metadata": {},
     "output_type": "execute_result"
    }
   ],
   "source": [
    "df_v.shape"
   ]
  },
  {
   "cell_type": "code",
   "execution_count": 16,
   "id": "e6c92a36",
   "metadata": {},
   "outputs": [],
   "source": [
    "# deleting data before 2000\n",
    "df_c = df_v [ (df_v['Year'] >= '2000')]"
   ]
  },
  {
   "cell_type": "code",
   "execution_count": 17,
   "id": "b5659a23",
   "metadata": {
    "scrolled": true
   },
   "outputs": [
    {
     "data": {
      "text/plain": [
       "(48363, 6)"
      ]
     },
     "execution_count": 17,
     "metadata": {},
     "output_type": "execute_result"
    }
   ],
   "source": [
    "df_c.shape"
   ]
  },
  {
   "cell_type": "code",
   "execution_count": 18,
   "id": "11115c9b",
   "metadata": {},
   "outputs": [],
   "source": [
    "# exporting as pkl\n",
    "df_c.to_pickle(os.path.join(path, '02 Data', 'Clean Data', 'violence_clean_2000.pkl'))"
   ]
  },
  {
   "cell_type": "markdown",
   "id": "8cb74346",
   "metadata": {},
   "source": [
    "## Step 5. Creating New Column for Europs Subdivisions"
   ]
  },
  {
   "cell_type": "code",
   "execution_count": 19,
   "id": "649fe2b6",
   "metadata": {},
   "outputs": [],
   "source": [
    "# create a new column 'EU Regions' and define it using for-loops\n",
    "result = []\n",
    "\n",
    "for value in df_c[\"Country Code\"]:\n",
    "  if value == \"RUS\" or value == \"BER\" or value == \"UKR\" or value == \"POL\" or value == \"CZE\" or value == \"SVK\" or value == \"HUN\" or value == \"ROU\" or value == \"BGR\" or value == \"MDA\" :\n",
    "    result.append(\"Eastern Europe\")\n",
    "  elif value == \"DEU\" or value == \"FRA\" or value == \"NLD\" or value == \"BEL\" or value == \"LUX\" or value == \"AUT\" or value == \"CHE\" :\n",
    "    result.append(\"Western Europe\")\n",
    "  elif value == \"ISL\" or value == \"SWE\" or value == \"NOR\" or value == \"FIN\" or value == \"LVA\" or value == \"EST\" or value == \"GBR\" or value == \"LTU\" or value == \"IRL\" or value == \"DNK\" :\n",
    "    result.append(\"Northern Europe\") \n",
    "  elif value == \"ESP\" or value == \"PRT\" or value == \"ITA\" or value == \"GRC\" or value == \"MLT\" or value == \"SRB\" or value == \"BIH\" or value == \"MKD\" or value == \"SMR\" or value == \"HRV\" or value == \"SVN\" or value == \"MNE\" or value == \"ALB\" :\n",
    "    result.append(\"Southern Europe\")\n",
    "  else:\n",
    "    result.append(\"Other\")"
   ]
  },
  {
   "cell_type": "code",
   "execution_count": 20,
   "id": "7d4934bc",
   "metadata": {},
   "outputs": [
    {
     "name": "stderr",
     "output_type": "stream",
     "text": [
      "/var/folders/2m/x4ncpd5d6zn4gz7_m6f16nww0000gn/T/ipykernel_1836/701675352.py:2: SettingWithCopyWarning: \n",
      "A value is trying to be set on a copy of a slice from a DataFrame.\n",
      "Try using .loc[row_indexer,col_indexer] = value instead\n",
      "\n",
      "See the caveats in the documentation: https://pandas.pydata.org/pandas-docs/stable/user_guide/indexing.html#returning-a-view-versus-a-copy\n",
      "  df_c['EU Region'] = result\n"
     ]
    }
   ],
   "source": [
    "# Add this column to dataframe\n",
    "df_c['EU Region'] = result"
   ]
  },
  {
   "cell_type": "code",
   "execution_count": 21,
   "id": "b77841b2",
   "metadata": {},
   "outputs": [
    {
     "data": {
      "text/plain": [
       "Other              40658\n",
       "Southern Europe     2537\n",
       "Eastern Europe      1924\n",
       "Northern Europe     1921\n",
       "Western Europe      1323\n",
       "Name: EU Region, dtype: int64"
      ]
     },
     "execution_count": 21,
     "metadata": {},
     "output_type": "execute_result"
    }
   ],
   "source": [
    "df_c['EU Region'].value_counts(dropna=False)"
   ]
  },
  {
   "cell_type": "code",
   "execution_count": 22,
   "id": "ef7da571",
   "metadata": {},
   "outputs": [
    {
     "name": "stderr",
     "output_type": "stream",
     "text": [
      "/var/folders/2m/x4ncpd5d6zn4gz7_m6f16nww0000gn/T/ipykernel_1836/3250033340.py:2: SettingWithCopyWarning: \n",
      "A value is trying to be set on a copy of a slice from a DataFrame.\n",
      "Try using .loc[row_indexer,col_indexer] = value instead\n",
      "\n",
      "See the caveats in the documentation: https://pandas.pydata.org/pandas-docs/stable/user_guide/indexing.html#returning-a-view-versus-a-copy\n",
      "  df_c['EU Region'] = df_c['EU Region'].astype('str')\n"
     ]
    }
   ],
   "source": [
    "# changing the type of column EU Region to string for consistency reasons\n",
    "df_c['EU Region'] = df_c['EU Region'].astype('str')"
   ]
  },
  {
   "cell_type": "code",
   "execution_count": 23,
   "id": "4b5f988c",
   "metadata": {},
   "outputs": [
    {
     "data": {
      "text/plain": [
       "Indicator Name    object\n",
       "Indicator Code    object\n",
       "Country Name      object\n",
       "Country Code      object\n",
       "Year              object\n",
       "Value              int64\n",
       "EU Region         object\n",
       "dtype: object"
      ]
     },
     "execution_count": 23,
     "metadata": {},
     "output_type": "execute_result"
    }
   ],
   "source": [
    "# datatypes of dataframe\n",
    "df_c.dtypes"
   ]
  },
  {
   "cell_type": "code",
   "execution_count": 24,
   "id": "4667868f",
   "metadata": {},
   "outputs": [
    {
     "data": {
      "text/html": [
       "<div>\n",
       "<style scoped>\n",
       "    .dataframe tbody tr th:only-of-type {\n",
       "        vertical-align: middle;\n",
       "    }\n",
       "\n",
       "    .dataframe tbody tr th {\n",
       "        vertical-align: top;\n",
       "    }\n",
       "\n",
       "    .dataframe thead th {\n",
       "        text-align: right;\n",
       "    }\n",
       "</style>\n",
       "<table border=\"1\" class=\"dataframe\">\n",
       "  <thead>\n",
       "    <tr style=\"text-align: right;\">\n",
       "      <th></th>\n",
       "      <th>Indicator Name</th>\n",
       "      <th>Indicator Code</th>\n",
       "      <th>Country Name</th>\n",
       "      <th>Country Code</th>\n",
       "      <th>Year</th>\n",
       "      <th>Value</th>\n",
       "      <th>EU Region</th>\n",
       "    </tr>\n",
       "  </thead>\n",
       "  <tbody>\n",
       "    <tr>\n",
       "      <th>0</th>\n",
       "      <td>Criminal penalties or civil remedies exist for...</td>\n",
       "      <td>SG.PEN.SXHR.EM</td>\n",
       "      <td>Afghanistan</td>\n",
       "      <td>AFG</td>\n",
       "      <td>2022</td>\n",
       "      <td>1</td>\n",
       "      <td>Other</td>\n",
       "    </tr>\n",
       "    <tr>\n",
       "      <th>1</th>\n",
       "      <td>Criminal penalties or civil remedies exist for...</td>\n",
       "      <td>SG.PEN.SXHR.EM</td>\n",
       "      <td>Afghanistan</td>\n",
       "      <td>AFG</td>\n",
       "      <td>2021</td>\n",
       "      <td>1</td>\n",
       "      <td>Other</td>\n",
       "    </tr>\n",
       "    <tr>\n",
       "      <th>2</th>\n",
       "      <td>Criminal penalties or civil remedies exist for...</td>\n",
       "      <td>SG.PEN.SXHR.EM</td>\n",
       "      <td>Afghanistan</td>\n",
       "      <td>AFG</td>\n",
       "      <td>2020</td>\n",
       "      <td>1</td>\n",
       "      <td>Other</td>\n",
       "    </tr>\n",
       "    <tr>\n",
       "      <th>3</th>\n",
       "      <td>Criminal penalties or civil remedies exist for...</td>\n",
       "      <td>SG.PEN.SXHR.EM</td>\n",
       "      <td>Afghanistan</td>\n",
       "      <td>AFG</td>\n",
       "      <td>2019</td>\n",
       "      <td>1</td>\n",
       "      <td>Other</td>\n",
       "    </tr>\n",
       "    <tr>\n",
       "      <th>4</th>\n",
       "      <td>Criminal penalties or civil remedies exist for...</td>\n",
       "      <td>SG.PEN.SXHR.EM</td>\n",
       "      <td>Afghanistan</td>\n",
       "      <td>AFG</td>\n",
       "      <td>2018</td>\n",
       "      <td>1</td>\n",
       "      <td>Other</td>\n",
       "    </tr>\n",
       "  </tbody>\n",
       "</table>\n",
       "</div>"
      ],
      "text/plain": [
       "                                      Indicator Name  Indicator Code  \\\n",
       "0  Criminal penalties or civil remedies exist for...  SG.PEN.SXHR.EM   \n",
       "1  Criminal penalties or civil remedies exist for...  SG.PEN.SXHR.EM   \n",
       "2  Criminal penalties or civil remedies exist for...  SG.PEN.SXHR.EM   \n",
       "3  Criminal penalties or civil remedies exist for...  SG.PEN.SXHR.EM   \n",
       "4  Criminal penalties or civil remedies exist for...  SG.PEN.SXHR.EM   \n",
       "\n",
       "  Country Name Country Code  Year  Value EU Region  \n",
       "0  Afghanistan          AFG  2022      1     Other  \n",
       "1  Afghanistan          AFG  2021      1     Other  \n",
       "2  Afghanistan          AFG  2020      1     Other  \n",
       "3  Afghanistan          AFG  2019      1     Other  \n",
       "4  Afghanistan          AFG  2018      1     Other  "
      ]
     },
     "execution_count": 24,
     "metadata": {},
     "output_type": "execute_result"
    }
   ],
   "source": [
    "df_c.head()"
   ]
  },
  {
   "cell_type": "code",
   "execution_count": 25,
   "id": "1884421d",
   "metadata": {},
   "outputs": [],
   "source": [
    "# exporting as pkl\n",
    "df_c.to_pickle(os.path.join(path,'02 Data', 'Clean Data', 'violence_clean_EU.pkl'))"
   ]
  },
  {
   "cell_type": "code",
   "execution_count": 26,
   "id": "0ee86c71",
   "metadata": {},
   "outputs": [],
   "source": [
    "# removing non-EU data\n",
    "EU_Data= df_c[df_c['EU Region'] != 'Other' ]"
   ]
  },
  {
   "cell_type": "code",
   "execution_count": 27,
   "id": "90aeb77f-8bac-473a-9e08-e5737ace9b76",
   "metadata": {},
   "outputs": [
    {
     "data": {
      "text/html": [
       "<div>\n",
       "<style scoped>\n",
       "    .dataframe tbody tr th:only-of-type {\n",
       "        vertical-align: middle;\n",
       "    }\n",
       "\n",
       "    .dataframe tbody tr th {\n",
       "        vertical-align: top;\n",
       "    }\n",
       "\n",
       "    .dataframe thead th {\n",
       "        text-align: right;\n",
       "    }\n",
       "</style>\n",
       "<table border=\"1\" class=\"dataframe\">\n",
       "  <thead>\n",
       "    <tr style=\"text-align: right;\">\n",
       "      <th></th>\n",
       "      <th>Indicator Name</th>\n",
       "      <th>Indicator Code</th>\n",
       "      <th>Country Name</th>\n",
       "      <th>Country Code</th>\n",
       "      <th>Year</th>\n",
       "      <th>Value</th>\n",
       "      <th>EU Region</th>\n",
       "    </tr>\n",
       "  </thead>\n",
       "  <tbody>\n",
       "    <tr>\n",
       "      <th>53</th>\n",
       "      <td>Criminal penalties or civil remedies exist for...</td>\n",
       "      <td>SG.PEN.SXHR.EM</td>\n",
       "      <td>Albania</td>\n",
       "      <td>ALB</td>\n",
       "      <td>2022</td>\n",
       "      <td>1</td>\n",
       "      <td>Southern Europe</td>\n",
       "    </tr>\n",
       "    <tr>\n",
       "      <th>54</th>\n",
       "      <td>Criminal penalties or civil remedies exist for...</td>\n",
       "      <td>SG.PEN.SXHR.EM</td>\n",
       "      <td>Albania</td>\n",
       "      <td>ALB</td>\n",
       "      <td>2021</td>\n",
       "      <td>1</td>\n",
       "      <td>Southern Europe</td>\n",
       "    </tr>\n",
       "    <tr>\n",
       "      <th>55</th>\n",
       "      <td>Criminal penalties or civil remedies exist for...</td>\n",
       "      <td>SG.PEN.SXHR.EM</td>\n",
       "      <td>Albania</td>\n",
       "      <td>ALB</td>\n",
       "      <td>2020</td>\n",
       "      <td>1</td>\n",
       "      <td>Southern Europe</td>\n",
       "    </tr>\n",
       "    <tr>\n",
       "      <th>56</th>\n",
       "      <td>Criminal penalties or civil remedies exist for...</td>\n",
       "      <td>SG.PEN.SXHR.EM</td>\n",
       "      <td>Albania</td>\n",
       "      <td>ALB</td>\n",
       "      <td>2019</td>\n",
       "      <td>1</td>\n",
       "      <td>Southern Europe</td>\n",
       "    </tr>\n",
       "    <tr>\n",
       "      <th>57</th>\n",
       "      <td>Criminal penalties or civil remedies exist for...</td>\n",
       "      <td>SG.PEN.SXHR.EM</td>\n",
       "      <td>Albania</td>\n",
       "      <td>ALB</td>\n",
       "      <td>2018</td>\n",
       "      <td>1</td>\n",
       "      <td>Southern Europe</td>\n",
       "    </tr>\n",
       "  </tbody>\n",
       "</table>\n",
       "</div>"
      ],
      "text/plain": [
       "                                       Indicator Name  Indicator Code  \\\n",
       "53  Criminal penalties or civil remedies exist for...  SG.PEN.SXHR.EM   \n",
       "54  Criminal penalties or civil remedies exist for...  SG.PEN.SXHR.EM   \n",
       "55  Criminal penalties or civil remedies exist for...  SG.PEN.SXHR.EM   \n",
       "56  Criminal penalties or civil remedies exist for...  SG.PEN.SXHR.EM   \n",
       "57  Criminal penalties or civil remedies exist for...  SG.PEN.SXHR.EM   \n",
       "\n",
       "   Country Name Country Code  Year  Value        EU Region  \n",
       "53      Albania          ALB  2022      1  Southern Europe  \n",
       "54      Albania          ALB  2021      1  Southern Europe  \n",
       "55      Albania          ALB  2020      1  Southern Europe  \n",
       "56      Albania          ALB  2019      1  Southern Europe  \n",
       "57      Albania          ALB  2018      1  Southern Europe  "
      ]
     },
     "execution_count": 27,
     "metadata": {},
     "output_type": "execute_result"
    }
   ],
   "source": [
    "EU_Data.head()"
   ]
  },
  {
   "cell_type": "code",
   "execution_count": 28,
   "id": "ff27cd55-84c3-42f8-bf7f-fb1ffb32d365",
   "metadata": {},
   "outputs": [],
   "source": [
    "# exporting as pkl\n",
    "EU_Data.to_pickle(os.path.join(path,'02 Data', 'Clean Data', 'EU_Data.pkl'))"
   ]
  },
  {
   "cell_type": "code",
   "execution_count": 29,
   "id": "94d6ab55-61e6-464e-a4d0-07c333fb92a4",
   "metadata": {},
   "outputs": [],
   "source": [
    "# exporting as csv\n",
    "EU_Data.to_csv(os.path.join(path,'02 Data', 'Clean Data', 'EU_Data.csv'))"
   ]
  }
 ],
 "metadata": {
  "kernelspec": {
   "display_name": "Python 3 (ipykernel)",
   "language": "python",
   "name": "python3"
  },
  "language_info": {
   "codemirror_mode": {
    "name": "ipython",
    "version": 3
   },
   "file_extension": ".py",
   "mimetype": "text/x-python",
   "name": "python",
   "nbconvert_exporter": "python",
   "pygments_lexer": "ipython3",
   "version": "3.10.9"
  }
 },
 "nbformat": 4,
 "nbformat_minor": 5
}
