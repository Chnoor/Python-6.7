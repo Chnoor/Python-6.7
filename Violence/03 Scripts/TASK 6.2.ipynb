{
 "cells": [
  {
   "cell_type": "markdown",
   "id": "68b525f5-91f5-49bf-b907-84eafc4de0c1",
   "metadata": {
    "tags": []
   },
   "source": [
    "## Steps in this notebook Task 6.2\n",
    "\n",
    "- Step 1: importing dataframe\n",
    "- Step 2: subsetting the data according to Indicator Name [survey questions] and creating some basic explanatory tables\n",
    "- Step 2: creat a heat map\n",
    "- Step 3: creating scattorplot for each subset\n",
    "- Step 4: creating pairplot for each subset\n",
    "- Step 5: creating a histoplot\n",
    "- Step 6: creating categorical plot for each subset\n",
    "- step 7: saving subsets"
   ]
  },
  {
   "cell_type": "markdown",
   "id": "89e922f6-0227-444c-8c6b-d5d0e71e8e5b",
   "metadata": {},
   "source": [
    "## Step 1. Importing Dataframes"
   ]
  },
  {
   "cell_type": "code",
   "execution_count": 1,
   "id": "fb25a5c0-c963-4723-acbb-3491e059f2fd",
   "metadata": {},
   "outputs": [],
   "source": [
    "# Importing libraries\n",
    "import pandas as pd\n",
    "import numpy as np\n",
    "import os\n",
    "import matplotlib.pyplot as plt\n",
    "import seaborn as sns\n",
    "import scipy\n",
    "import matplotlib\n",
    "from dython.nominal import associations"
   ]
  },
  {
   "cell_type": "markdown",
   "id": "2fc59b03-48d6-47c6-ae65-9d71b9570d0a",
   "metadata": {},
   "source": [
    "## Step 1: Importing dataframe"
   ]
  },
  {
   "cell_type": "code",
   "execution_count": 2,
   "id": "e8a6bd60-ee5d-444b-9002-509340502841",
   "metadata": {
    "tags": []
   },
   "outputs": [],
   "source": [
    "# Creating path\n",
    "path =r'/Users/parvinrahimi/Desktop/Data/Data Immersion/Achievement 6/Violence'"
   ]
  },
  {
   "cell_type": "code",
   "execution_count": 3,
   "id": "b38ff2f2-f3f2-4c53-904e-97a0939456f3",
   "metadata": {
    "tags": []
   },
   "outputs": [],
   "source": [
    "# Importing dataframes\n",
    "df = pd.read_pickle(os.path.join(path, '02 Data','Clean Data','EU_Data.pkl'))"
   ]
  },
  {
   "cell_type": "code",
   "execution_count": 4,
   "id": "17584503-26b1-4aff-8ff6-2abd2d52d460",
   "metadata": {
    "tags": []
   },
   "outputs": [
    {
     "data": {
      "text/plain": [
       "'3.7.0'"
      ]
     },
     "execution_count": 4,
     "metadata": {},
     "output_type": "execute_result"
    }
   ],
   "source": [
    "# determining the current version of matplotlib installed\n",
    "matplotlib.__version__"
   ]
  },
  {
   "cell_type": "code",
   "execution_count": 5,
   "id": "78e0ce6a-4d35-46a5-bb6f-a74913ebea27",
   "metadata": {},
   "outputs": [],
   "source": [
    "# This option ensures the charts you create are displayed in the notebook without the need to \"call\" them specifically.\n",
    "%matplotlib inline"
   ]
  },
  {
   "cell_type": "markdown",
   "id": "4a2ee34f-e29c-4056-af53-d330093c54e9",
   "metadata": {},
   "source": [
    "## Step 2. Subsetting data according to \"Indicator Name\""
   ]
  },
  {
   "cell_type": "markdown",
   "id": "a56d8d25-a179-4c4f-9d46-e046edde8312",
   "metadata": {},
   "source": [
    "## Questions in Indicator Name (relevant survey questions):\n",
    "\n",
    "df_1: Indicator Name: Intentional homicides, female (per 100,000 female)\n",
    "- Indicator Code: VC.IHR.PSRC.FE.P5\n",
    "    \n",
    "df_2: Indicator Name: There is legislation specifically addressing domestic violence (1=yes; 0=no)\n",
    "- Indicator Code: SG.LEG.DVAW\n",
    "                       \n",
    "df_3: Indicator Name: There is legislation on sexual harassment in employment (1=yes; 0=no)\n",
    "- Indicator Code: SG.LEG.SXHR.EM          \n",
    "           \n",
    "Indicator Name: Proportion of women who have ever experienced any form of sexual violence (% of women ages 15-49)\n",
    "- Indicator Code: SG.VAW.AFSX.ZS: not enough data!"
   ]
  },
  {
   "cell_type": "code",
   "execution_count": 6,
   "id": "cd90951b-65fd-491a-9490-4e100856f303",
   "metadata": {
    "tags": []
   },
   "outputs": [],
   "source": [
    "# Creating subsets for each question in \"Indicator Name\"\n",
    "df_1 = df.loc[df['Indicator Code'] == 'VC.IHR.PSRC.FE.P5'] # intentional homicide"
   ]
  },
  {
   "cell_type": "code",
   "execution_count": 7,
   "id": "d3d22a50-de1a-4c76-b470-98ff6b04cc08",
   "metadata": {
    "tags": []
   },
   "outputs": [],
   "source": [
    "# Creating subsets for each question in \"Indicator Name\"\n",
    "df_2 = df.loc[df['Indicator Code'] == 'SG.LEG.DVAW'] #legislation on domestic violence"
   ]
  },
  {
   "cell_type": "code",
   "execution_count": 8,
   "id": "b27240b9-e753-4414-9dc6-bef71caa03df",
   "metadata": {
    "tags": []
   },
   "outputs": [],
   "source": [
    "# Creating subsets for each question in \"Indicator Name\"\n",
    "df_3 = df.loc[df['Indicator Code'] == 'SG.LEG.SXHR.EM'] #legislation on sexual harassment at work"
   ]
  },
  {
   "cell_type": "code",
   "execution_count": 9,
   "id": "639732d7-6443-4795-a6d6-e67fa058b6a2",
   "metadata": {
    "tags": []
   },
   "outputs": [
    {
     "data": {
      "text/plain": [
       "0.7808764940239044"
      ]
     },
     "execution_count": 9,
     "metadata": {},
     "output_type": "execute_result"
    }
   ],
   "source": [
    "# mean of intentionsl homicide per 100,000 women\n",
    "df_1['Value'].mean()"
   ]
  },
  {
   "cell_type": "code",
   "execution_count": 10,
   "id": "4e49d2c9-99a7-46e8-95f9-40e4959882e7",
   "metadata": {
    "tags": []
   },
   "outputs": [],
   "source": [
    "# grouping the homicide data by region \n",
    "df_homicide = df_1.groupby([ 'EU Region']).agg({'Value': ['sum','mean', 'max']})"
   ]
  },
  {
   "cell_type": "code",
   "execution_count": 11,
   "id": "0bbdaec9-8193-49a9-8050-64e6ac411aaa",
   "metadata": {},
   "outputs": [
    {
     "data": {
      "text/html": [
       "<div>\n",
       "<style scoped>\n",
       "    .dataframe tbody tr th:only-of-type {\n",
       "        vertical-align: middle;\n",
       "    }\n",
       "\n",
       "    .dataframe tbody tr th {\n",
       "        vertical-align: top;\n",
       "    }\n",
       "\n",
       "    .dataframe thead tr th {\n",
       "        text-align: left;\n",
       "    }\n",
       "\n",
       "    .dataframe thead tr:last-of-type th {\n",
       "        text-align: right;\n",
       "    }\n",
       "</style>\n",
       "<table border=\"1\" class=\"dataframe\">\n",
       "  <thead>\n",
       "    <tr>\n",
       "      <th></th>\n",
       "      <th colspan=\"3\" halign=\"left\">Value</th>\n",
       "    </tr>\n",
       "    <tr>\n",
       "      <th></th>\n",
       "      <th>sum</th>\n",
       "      <th>mean</th>\n",
       "      <th>max</th>\n",
       "    </tr>\n",
       "    <tr>\n",
       "      <th>EU Region</th>\n",
       "      <th></th>\n",
       "      <th></th>\n",
       "      <th></th>\n",
       "    </tr>\n",
       "  </thead>\n",
       "  <tbody>\n",
       "    <tr>\n",
       "      <th>Eastern Europe</th>\n",
       "      <td>310</td>\n",
       "      <td>1.675676</td>\n",
       "      <td>13</td>\n",
       "    </tr>\n",
       "    <tr>\n",
       "      <th>Northern Europe</th>\n",
       "      <td>169</td>\n",
       "      <td>0.880208</td>\n",
       "      <td>7</td>\n",
       "    </tr>\n",
       "    <tr>\n",
       "      <th>Southern Europe</th>\n",
       "      <td>70</td>\n",
       "      <td>0.282258</td>\n",
       "      <td>7</td>\n",
       "    </tr>\n",
       "    <tr>\n",
       "      <th>Western Europe</th>\n",
       "      <td>39</td>\n",
       "      <td>0.304688</td>\n",
       "      <td>2</td>\n",
       "    </tr>\n",
       "  </tbody>\n",
       "</table>\n",
       "</div>"
      ],
      "text/plain": [
       "                Value              \n",
       "                  sum      mean max\n",
       "EU Region                          \n",
       "Eastern Europe    310  1.675676  13\n",
       "Northern Europe   169  0.880208   7\n",
       "Southern Europe    70  0.282258   7\n",
       "Western Europe     39  0.304688   2"
      ]
     },
     "execution_count": 11,
     "metadata": {},
     "output_type": "execute_result"
    }
   ],
   "source": [
    "df_homicide"
   ]
  },
  {
   "cell_type": "markdown",
   "id": "52f49e55-ce72-4c06-b5c5-2cdb3504bb07",
   "metadata": {},
   "source": [
    "#### The table shows that eastern europe with a total number of 310 intentional homicide on women since 2000 has the highest rate in Europe."
   ]
  },
  {
   "cell_type": "code",
   "execution_count": 12,
   "id": "3562c9a5-7268-4b0a-9901-e6f0e72d4952",
   "metadata": {
    "tags": []
   },
   "outputs": [],
   "source": [
    "# grouping the data on legislation on domestic violence by region\n",
    "df_l_domestic= df_2.groupby(['EU Region']).agg({'Value': ['value_counts']})"
   ]
  },
  {
   "cell_type": "code",
   "execution_count": 13,
   "id": "59ccbb8f-792d-4eb4-8814-2f47c83befa8",
   "metadata": {},
   "outputs": [
    {
     "data": {
      "text/html": [
       "<div>\n",
       "<style scoped>\n",
       "    .dataframe tbody tr th:only-of-type {\n",
       "        vertical-align: middle;\n",
       "    }\n",
       "\n",
       "    .dataframe tbody tr th {\n",
       "        vertical-align: top;\n",
       "    }\n",
       "\n",
       "    .dataframe thead tr th {\n",
       "        text-align: left;\n",
       "    }\n",
       "\n",
       "    .dataframe thead tr:last-of-type th {\n",
       "        text-align: right;\n",
       "    }\n",
       "</style>\n",
       "<table border=\"1\" class=\"dataframe\">\n",
       "  <thead>\n",
       "    <tr>\n",
       "      <th></th>\n",
       "      <th></th>\n",
       "      <th>Value</th>\n",
       "    </tr>\n",
       "    <tr>\n",
       "      <th></th>\n",
       "      <th></th>\n",
       "      <th>value_counts</th>\n",
       "    </tr>\n",
       "    <tr>\n",
       "      <th>EU Region</th>\n",
       "      <th>Value</th>\n",
       "      <th></th>\n",
       "    </tr>\n",
       "  </thead>\n",
       "  <tbody>\n",
       "    <tr>\n",
       "      <th rowspan=\"2\" valign=\"top\">Eastern Europe</th>\n",
       "      <th>1</th>\n",
       "      <td>137</td>\n",
       "    </tr>\n",
       "    <tr>\n",
       "      <th>0</th>\n",
       "      <td>70</td>\n",
       "    </tr>\n",
       "    <tr>\n",
       "      <th rowspan=\"2\" valign=\"top\">Northern Europe</th>\n",
       "      <th>1</th>\n",
       "      <td>147</td>\n",
       "    </tr>\n",
       "    <tr>\n",
       "      <th>0</th>\n",
       "      <td>83</td>\n",
       "    </tr>\n",
       "    <tr>\n",
       "      <th rowspan=\"2\" valign=\"top\">Southern Europe</th>\n",
       "      <th>1</th>\n",
       "      <td>208</td>\n",
       "    </tr>\n",
       "    <tr>\n",
       "      <th>0</th>\n",
       "      <td>91</td>\n",
       "    </tr>\n",
       "    <tr>\n",
       "      <th rowspan=\"2\" valign=\"top\">Western Europe</th>\n",
       "      <th>1</th>\n",
       "      <td>124</td>\n",
       "    </tr>\n",
       "    <tr>\n",
       "      <th>0</th>\n",
       "      <td>37</td>\n",
       "    </tr>\n",
       "  </tbody>\n",
       "</table>\n",
       "</div>"
      ],
      "text/plain": [
       "                             Value\n",
       "                      value_counts\n",
       "EU Region       Value             \n",
       "Eastern Europe  1              137\n",
       "                0               70\n",
       "Northern Europe 1              147\n",
       "                0               83\n",
       "Southern Europe 1              208\n",
       "                0               91\n",
       "Western Europe  1              124\n",
       "                0               37"
      ]
     },
     "execution_count": 13,
     "metadata": {},
     "output_type": "execute_result"
    }
   ],
   "source": [
    "df_l_domestic"
   ]
  },
  {
   "cell_type": "code",
   "execution_count": 14,
   "id": "9da5b2d2-70f0-4654-bab5-6d001db3c729",
   "metadata": {
    "tags": []
   },
   "outputs": [],
   "source": [
    "# grouping the data on legislation on sexual harassment at work by region\n",
    "df_l_harassement = df_3.groupby(['EU Region']).agg({'Value': ['value_counts']})"
   ]
  },
  {
   "cell_type": "code",
   "execution_count": 15,
   "id": "f25b672a-0b62-4ad7-b4a7-e58dc025d8a6",
   "metadata": {},
   "outputs": [
    {
     "data": {
      "text/html": [
       "<div>\n",
       "<style scoped>\n",
       "    .dataframe tbody tr th:only-of-type {\n",
       "        vertical-align: middle;\n",
       "    }\n",
       "\n",
       "    .dataframe tbody tr th {\n",
       "        vertical-align: top;\n",
       "    }\n",
       "\n",
       "    .dataframe thead tr th {\n",
       "        text-align: left;\n",
       "    }\n",
       "\n",
       "    .dataframe thead tr:last-of-type th {\n",
       "        text-align: right;\n",
       "    }\n",
       "</style>\n",
       "<table border=\"1\" class=\"dataframe\">\n",
       "  <thead>\n",
       "    <tr>\n",
       "      <th></th>\n",
       "      <th></th>\n",
       "      <th>Value</th>\n",
       "    </tr>\n",
       "    <tr>\n",
       "      <th></th>\n",
       "      <th></th>\n",
       "      <th>value_counts</th>\n",
       "    </tr>\n",
       "    <tr>\n",
       "      <th>EU Region</th>\n",
       "      <th>Value</th>\n",
       "      <th></th>\n",
       "    </tr>\n",
       "  </thead>\n",
       "  <tbody>\n",
       "    <tr>\n",
       "      <th rowspan=\"2\" valign=\"top\">Eastern Europe</th>\n",
       "      <th>1</th>\n",
       "      <td>135</td>\n",
       "    </tr>\n",
       "    <tr>\n",
       "      <th>0</th>\n",
       "      <td>72</td>\n",
       "    </tr>\n",
       "    <tr>\n",
       "      <th rowspan=\"2\" valign=\"top\">Northern Europe</th>\n",
       "      <th>1</th>\n",
       "      <td>202</td>\n",
       "    </tr>\n",
       "    <tr>\n",
       "      <th>0</th>\n",
       "      <td>28</td>\n",
       "    </tr>\n",
       "    <tr>\n",
       "      <th rowspan=\"2\" valign=\"top\">Southern Europe</th>\n",
       "      <th>1</th>\n",
       "      <td>229</td>\n",
       "    </tr>\n",
       "    <tr>\n",
       "      <th>0</th>\n",
       "      <td>70</td>\n",
       "    </tr>\n",
       "    <tr>\n",
       "      <th rowspan=\"2\" valign=\"top\">Western Europe</th>\n",
       "      <th>1</th>\n",
       "      <td>151</td>\n",
       "    </tr>\n",
       "    <tr>\n",
       "      <th>0</th>\n",
       "      <td>10</td>\n",
       "    </tr>\n",
       "  </tbody>\n",
       "</table>\n",
       "</div>"
      ],
      "text/plain": [
       "                             Value\n",
       "                      value_counts\n",
       "EU Region       Value             \n",
       "Eastern Europe  1              135\n",
       "                0               72\n",
       "Northern Europe 1              202\n",
       "                0               28\n",
       "Southern Europe 1              229\n",
       "                0               70\n",
       "Western Europe  1              151\n",
       "                0               10"
      ]
     },
     "execution_count": 15,
     "metadata": {},
     "output_type": "execute_result"
    }
   ],
   "source": [
    "df_l_harassement"
   ]
  },
  {
   "cell_type": "markdown",
   "id": "6756c74e-b18f-40a4-863e-36eb74004a36",
   "metadata": {},
   "source": [
    "## Step 2. Creating a heatmap in seaborn"
   ]
  },
  {
   "cell_type": "markdown",
   "id": "17ec0c48-6aa4-46aa-95ce-67a4a6cd7b78",
   "metadata": {},
   "source": [
    "#### Since the \"Value\" column refers to different survey questions that assmume inconsistent values, I decided to create a heatmap for only the data on intentional homicide. Each subset of the dataframe has only one string variable. Thus the heatmap was created using dython library instead, which can be used on categorical variables. "
   ]
  },
  {
   "cell_type": "code",
   "execution_count": 16,
   "id": "ee6b26da-6e0f-49a8-b97a-16dfb4df6c32",
   "metadata": {
    "tags": []
   },
   "outputs": [],
   "source": [
    "# Create a subset excluding the irrelevant columns\n",
    "sub_cor = df_1[['Country Name','EU Region','Value']]"
   ]
  },
  {
   "cell_type": "code",
   "execution_count": 17,
   "id": "b0a4545d-d190-4761-b5a6-8aeffe029fe0",
   "metadata": {
    "tags": []
   },
   "outputs": [
    {
     "data": {
      "image/png": "[encoded data removed]",
      "text/plain": [
       "<Figure size 640x480 with 2 Axes>"
      ]
     },
     "metadata": {},
     "output_type": "display_data"
    }
   ],
   "source": [
    "heatmap = associations(sub_cor)"
   ]
  },
  {
   "cell_type": "markdown",
   "id": "621df603-f063-4678-a02e-779efa3e5958",
   "metadata": {},
   "source": [
    "####The heatmap shows that there is a weak correlation (0,34) between intentional homicide rate and the EU region. However there is a strong correlation (0,98) between Country and intentional homicide rate."
   ]
  },
  {
   "cell_type": "markdown",
   "id": "f67bf201-4594-4b19-8a99-6604adc9709a",
   "metadata": {},
   "source": [
    "## Step 3: Creating scatterplot"
   ]
  },
  {
   "cell_type": "markdown",
   "id": "e5544fa7-16df-4762-83fd-1d5313c350d8",
   "metadata": {},
   "source": [
    "#### Due to the same reason mentioned in step 2, the scatterplot takes one categorical variable \"Year\" and one string Variable \"Value\" also for data in intentional homicide."
   ]
  },
  {
   "cell_type": "code",
   "execution_count": 18,
   "id": "778cf881-6f40-4407-bd3b-0de28354a611",
   "metadata": {},
   "outputs": [
    {
     "ename": "TypeError",
     "evalue": "can't multiply sequence by non-int of type 'float'",
     "output_type": "error",
     "traceback": [
      "\u001b[0;31m---------------------------------------------------------------------------\u001b[0m",
      "\u001b[0;31mTypeError\u001b[0m                                 Traceback (most recent call last)",
      "Cell \u001b[0;32mIn[18], line 2\u001b[0m\n\u001b[1;32m      1\u001b[0m \u001b[38;5;66;03m# Create a scatterplot for the \"Year\" and \"Value\" columns \u001b[39;00m\n\u001b[0;32m----> 2\u001b[0m scat_1 \u001b[38;5;241m=\u001b[39m\u001b[43msns\u001b[49m\u001b[38;5;241;43m.\u001b[39;49m\u001b[43mlmplot\u001b[49m\u001b[43m(\u001b[49m\u001b[43mx\u001b[49m\u001b[43m \u001b[49m\u001b[38;5;241;43m=\u001b[39;49m\u001b[43m \u001b[49m\u001b[38;5;124;43m'\u001b[39;49m\u001b[38;5;124;43mValue\u001b[39;49m\u001b[38;5;124;43m'\u001b[39;49m\u001b[43m,\u001b[49m\u001b[43m \u001b[49m\u001b[43my\u001b[49m\u001b[43m \u001b[49m\u001b[38;5;241;43m=\u001b[39;49m\u001b[43m \u001b[49m\u001b[38;5;124;43m'\u001b[39;49m\u001b[38;5;124;43mYear\u001b[39;49m\u001b[38;5;124;43m'\u001b[39;49m\u001b[43m,\u001b[49m\u001b[43m \u001b[49m\u001b[43mdata\u001b[49m\u001b[43m \u001b[49m\u001b[38;5;241;43m=\u001b[39;49m\u001b[43m \u001b[49m\u001b[43mdf_1\u001b[49m\u001b[43m)\u001b[49m\n",
      "File \u001b[0;32m~/anaconda3/lib/python3.10/site-packages/seaborn/regression.py:635\u001b[0m, in \u001b[0;36mlmplot\u001b[0;34m(data, x, y, hue, col, row, palette, col_wrap, height, aspect, markers, sharex, sharey, hue_order, col_order, row_order, legend, legend_out, x_estimator, x_bins, x_ci, scatter, fit_reg, ci, n_boot, units, seed, order, logistic, lowess, robust, logx, x_partial, y_partial, truncate, x_jitter, y_jitter, scatter_kws, line_kws, facet_kws)\u001b[0m\n\u001b[1;32m    626\u001b[0m \u001b[38;5;66;03m# Draw the regression plot on each facet\u001b[39;00m\n\u001b[1;32m    627\u001b[0m regplot_kws \u001b[38;5;241m=\u001b[39m \u001b[38;5;28mdict\u001b[39m(\n\u001b[1;32m    628\u001b[0m     x_estimator\u001b[38;5;241m=\u001b[39mx_estimator, x_bins\u001b[38;5;241m=\u001b[39mx_bins, x_ci\u001b[38;5;241m=\u001b[39mx_ci,\n\u001b[1;32m    629\u001b[0m     scatter\u001b[38;5;241m=\u001b[39mscatter, fit_reg\u001b[38;5;241m=\u001b[39mfit_reg, ci\u001b[38;5;241m=\u001b[39mci, n_boot\u001b[38;5;241m=\u001b[39mn_boot, units\u001b[38;5;241m=\u001b[39munits,\n\u001b[0;32m   (...)\u001b[0m\n\u001b[1;32m    633\u001b[0m     scatter_kws\u001b[38;5;241m=\u001b[39mscatter_kws, line_kws\u001b[38;5;241m=\u001b[39mline_kws,\n\u001b[1;32m    634\u001b[0m )\n\u001b[0;32m--> 635\u001b[0m \u001b[43mfacets\u001b[49m\u001b[38;5;241;43m.\u001b[39;49m\u001b[43mmap_dataframe\u001b[49m\u001b[43m(\u001b[49m\u001b[43mregplot\u001b[49m\u001b[43m,\u001b[49m\u001b[43m \u001b[49m\u001b[43mx\u001b[49m\u001b[38;5;241;43m=\u001b[39;49m\u001b[43mx\u001b[49m\u001b[43m,\u001b[49m\u001b[43m \u001b[49m\u001b[43my\u001b[49m\u001b[38;5;241;43m=\u001b[39;49m\u001b[43my\u001b[49m\u001b[43m,\u001b[49m\u001b[43m \u001b[49m\u001b[38;5;241;43m*\u001b[39;49m\u001b[38;5;241;43m*\u001b[39;49m\u001b[43mregplot_kws\u001b[49m\u001b[43m)\u001b[49m\n\u001b[1;32m    636\u001b[0m facets\u001b[38;5;241m.\u001b[39mset_axis_labels(x, y)\n\u001b[1;32m    638\u001b[0m \u001b[38;5;66;03m# Add a legend\u001b[39;00m\n",
      "File \u001b[0;32m~/anaconda3/lib/python3.10/site-packages/seaborn/axisgrid.py:819\u001b[0m, in \u001b[0;36mFacetGrid.map_dataframe\u001b[0;34m(self, func, *args, **kwargs)\u001b[0m\n\u001b[1;32m    816\u001b[0m     kwargs[\u001b[38;5;124m\"\u001b[39m\u001b[38;5;124mdata\u001b[39m\u001b[38;5;124m\"\u001b[39m] \u001b[38;5;241m=\u001b[39m data_ijk\n\u001b[1;32m    818\u001b[0m     \u001b[38;5;66;03m# Draw the plot\u001b[39;00m\n\u001b[0;32m--> 819\u001b[0m     \u001b[38;5;28;43mself\u001b[39;49m\u001b[38;5;241;43m.\u001b[39;49m\u001b[43m_facet_plot\u001b[49m\u001b[43m(\u001b[49m\u001b[43mfunc\u001b[49m\u001b[43m,\u001b[49m\u001b[43m \u001b[49m\u001b[43max\u001b[49m\u001b[43m,\u001b[49m\u001b[43m \u001b[49m\u001b[43margs\u001b[49m\u001b[43m,\u001b[49m\u001b[43m \u001b[49m\u001b[43mkwargs\u001b[49m\u001b[43m)\u001b[49m\n\u001b[1;32m    821\u001b[0m \u001b[38;5;66;03m# For axis labels, prefer to use positional args for backcompat\u001b[39;00m\n\u001b[1;32m    822\u001b[0m \u001b[38;5;66;03m# but also extract the x/y kwargs and use if no corresponding arg\u001b[39;00m\n\u001b[1;32m    823\u001b[0m axis_labels \u001b[38;5;241m=\u001b[39m [kwargs\u001b[38;5;241m.\u001b[39mget(\u001b[38;5;124m\"\u001b[39m\u001b[38;5;124mx\u001b[39m\u001b[38;5;124m\"\u001b[39m, \u001b[38;5;28;01mNone\u001b[39;00m), kwargs\u001b[38;5;241m.\u001b[39mget(\u001b[38;5;124m\"\u001b[39m\u001b[38;5;124my\u001b[39m\u001b[38;5;124m\"\u001b[39m, \u001b[38;5;28;01mNone\u001b[39;00m)]\n",
      "File \u001b[0;32m~/anaconda3/lib/python3.10/site-packages/seaborn/axisgrid.py:848\u001b[0m, in \u001b[0;36mFacetGrid._facet_plot\u001b[0;34m(self, func, ax, plot_args, plot_kwargs)\u001b[0m\n\u001b[1;32m    846\u001b[0m     plot_args \u001b[38;5;241m=\u001b[39m []\n\u001b[1;32m    847\u001b[0m     plot_kwargs[\u001b[38;5;124m\"\u001b[39m\u001b[38;5;124max\u001b[39m\u001b[38;5;124m\"\u001b[39m] \u001b[38;5;241m=\u001b[39m ax\n\u001b[0;32m--> 848\u001b[0m \u001b[43mfunc\u001b[49m\u001b[43m(\u001b[49m\u001b[38;5;241;43m*\u001b[39;49m\u001b[43mplot_args\u001b[49m\u001b[43m,\u001b[49m\u001b[43m \u001b[49m\u001b[38;5;241;43m*\u001b[39;49m\u001b[38;5;241;43m*\u001b[39;49m\u001b[43mplot_kwargs\u001b[49m\u001b[43m)\u001b[49m\n\u001b[1;32m    850\u001b[0m \u001b[38;5;66;03m# Sort out the supporting information\u001b[39;00m\n\u001b[1;32m    851\u001b[0m \u001b[38;5;28mself\u001b[39m\u001b[38;5;241m.\u001b[39m_update_legend_data(ax)\n",
      "File \u001b[0;32m~/anaconda3/lib/python3.10/site-packages/seaborn/regression.py:759\u001b[0m, in \u001b[0;36mregplot\u001b[0;34m(data, x, y, x_estimator, x_bins, x_ci, scatter, fit_reg, ci, n_boot, units, seed, order, logistic, lowess, robust, logx, x_partial, y_partial, truncate, dropna, x_jitter, y_jitter, label, color, marker, scatter_kws, line_kws, ax)\u001b[0m\n\u001b[1;32m    757\u001b[0m scatter_kws[\u001b[38;5;124m\"\u001b[39m\u001b[38;5;124mmarker\u001b[39m\u001b[38;5;124m\"\u001b[39m] \u001b[38;5;241m=\u001b[39m marker\n\u001b[1;32m    758\u001b[0m line_kws \u001b[38;5;241m=\u001b[39m {} \u001b[38;5;28;01mif\u001b[39;00m line_kws \u001b[38;5;129;01mis\u001b[39;00m \u001b[38;5;28;01mNone\u001b[39;00m \u001b[38;5;28;01melse\u001b[39;00m copy\u001b[38;5;241m.\u001b[39mcopy(line_kws)\n\u001b[0;32m--> 759\u001b[0m \u001b[43mplotter\u001b[49m\u001b[38;5;241;43m.\u001b[39;49m\u001b[43mplot\u001b[49m\u001b[43m(\u001b[49m\u001b[43max\u001b[49m\u001b[43m,\u001b[49m\u001b[43m \u001b[49m\u001b[43mscatter_kws\u001b[49m\u001b[43m,\u001b[49m\u001b[43m \u001b[49m\u001b[43mline_kws\u001b[49m\u001b[43m)\u001b[49m\n\u001b[1;32m    760\u001b[0m \u001b[38;5;28;01mreturn\u001b[39;00m ax\n",
      "File \u001b[0;32m~/anaconda3/lib/python3.10/site-packages/seaborn/regression.py:368\u001b[0m, in \u001b[0;36m_RegressionPlotter.plot\u001b[0;34m(self, ax, scatter_kws, line_kws)\u001b[0m\n\u001b[1;32m    365\u001b[0m     \u001b[38;5;28mself\u001b[39m\u001b[38;5;241m.\u001b[39mscatterplot(ax, scatter_kws)\n\u001b[1;32m    367\u001b[0m \u001b[38;5;28;01mif\u001b[39;00m \u001b[38;5;28mself\u001b[39m\u001b[38;5;241m.\u001b[39mfit_reg:\n\u001b[0;32m--> 368\u001b[0m     \u001b[38;5;28;43mself\u001b[39;49m\u001b[38;5;241;43m.\u001b[39;49m\u001b[43mlineplot\u001b[49m\u001b[43m(\u001b[49m\u001b[43max\u001b[49m\u001b[43m,\u001b[49m\u001b[43m \u001b[49m\u001b[43mline_kws\u001b[49m\u001b[43m)\u001b[49m\n\u001b[1;32m    370\u001b[0m \u001b[38;5;66;03m# Label the axes\u001b[39;00m\n\u001b[1;32m    371\u001b[0m \u001b[38;5;28;01mif\u001b[39;00m \u001b[38;5;28mhasattr\u001b[39m(\u001b[38;5;28mself\u001b[39m\u001b[38;5;241m.\u001b[39mx, \u001b[38;5;124m\"\u001b[39m\u001b[38;5;124mname\u001b[39m\u001b[38;5;124m\"\u001b[39m):\n",
      "File \u001b[0;32m~/anaconda3/lib/python3.10/site-packages/seaborn/regression.py:413\u001b[0m, in \u001b[0;36m_RegressionPlotter.lineplot\u001b[0;34m(self, ax, kws)\u001b[0m\n\u001b[1;32m    411\u001b[0m \u001b[38;5;124;03m\"\"\"Draw the model.\"\"\"\u001b[39;00m\n\u001b[1;32m    412\u001b[0m \u001b[38;5;66;03m# Fit the regression model\u001b[39;00m\n\u001b[0;32m--> 413\u001b[0m grid, yhat, err_bands \u001b[38;5;241m=\u001b[39m \u001b[38;5;28;43mself\u001b[39;49m\u001b[38;5;241;43m.\u001b[39;49m\u001b[43mfit_regression\u001b[49m\u001b[43m(\u001b[49m\u001b[43max\u001b[49m\u001b[43m)\u001b[49m\n\u001b[1;32m    414\u001b[0m edges \u001b[38;5;241m=\u001b[39m grid[\u001b[38;5;241m0\u001b[39m], grid[\u001b[38;5;241m-\u001b[39m\u001b[38;5;241m1\u001b[39m]\n\u001b[1;32m    416\u001b[0m \u001b[38;5;66;03m# Get set default aesthetics\u001b[39;00m\n",
      "File \u001b[0;32m~/anaconda3/lib/python3.10/site-packages/seaborn/regression.py:219\u001b[0m, in \u001b[0;36m_RegressionPlotter.fit_regression\u001b[0;34m(self, ax, x_range, grid)\u001b[0m\n\u001b[1;32m    217\u001b[0m     yhat, yhat_boots \u001b[38;5;241m=\u001b[39m \u001b[38;5;28mself\u001b[39m\u001b[38;5;241m.\u001b[39mfit_logx(grid)\n\u001b[1;32m    218\u001b[0m \u001b[38;5;28;01melse\u001b[39;00m:\n\u001b[0;32m--> 219\u001b[0m     yhat, yhat_boots \u001b[38;5;241m=\u001b[39m \u001b[38;5;28;43mself\u001b[39;49m\u001b[38;5;241;43m.\u001b[39;49m\u001b[43mfit_fast\u001b[49m\u001b[43m(\u001b[49m\u001b[43mgrid\u001b[49m\u001b[43m)\u001b[49m\n\u001b[1;32m    221\u001b[0m \u001b[38;5;66;03m# Compute the confidence interval at each grid point\u001b[39;00m\n\u001b[1;32m    222\u001b[0m \u001b[38;5;28;01mif\u001b[39;00m ci \u001b[38;5;129;01mis\u001b[39;00m \u001b[38;5;28;01mNone\u001b[39;00m:\n",
      "File \u001b[0;32m~/anaconda3/lib/python3.10/site-packages/seaborn/regression.py:236\u001b[0m, in \u001b[0;36m_RegressionPlotter.fit_fast\u001b[0;34m(self, grid)\u001b[0m\n\u001b[1;32m    234\u001b[0m X, y \u001b[38;5;241m=\u001b[39m np\u001b[38;5;241m.\u001b[39mc_[np\u001b[38;5;241m.\u001b[39mones(\u001b[38;5;28mlen\u001b[39m(\u001b[38;5;28mself\u001b[39m\u001b[38;5;241m.\u001b[39mx)), \u001b[38;5;28mself\u001b[39m\u001b[38;5;241m.\u001b[39mx], \u001b[38;5;28mself\u001b[39m\u001b[38;5;241m.\u001b[39my\n\u001b[1;32m    235\u001b[0m grid \u001b[38;5;241m=\u001b[39m np\u001b[38;5;241m.\u001b[39mc_[np\u001b[38;5;241m.\u001b[39mones(\u001b[38;5;28mlen\u001b[39m(grid)), grid]\n\u001b[0;32m--> 236\u001b[0m yhat \u001b[38;5;241m=\u001b[39m grid\u001b[38;5;241m.\u001b[39mdot(\u001b[43mreg_func\u001b[49m\u001b[43m(\u001b[49m\u001b[43mX\u001b[49m\u001b[43m,\u001b[49m\u001b[43m \u001b[49m\u001b[43my\u001b[49m\u001b[43m)\u001b[49m)\n\u001b[1;32m    237\u001b[0m \u001b[38;5;28;01mif\u001b[39;00m \u001b[38;5;28mself\u001b[39m\u001b[38;5;241m.\u001b[39mci \u001b[38;5;129;01mis\u001b[39;00m \u001b[38;5;28;01mNone\u001b[39;00m:\n\u001b[1;32m    238\u001b[0m     \u001b[38;5;28;01mreturn\u001b[39;00m yhat, \u001b[38;5;28;01mNone\u001b[39;00m\n",
      "File \u001b[0;32m~/anaconda3/lib/python3.10/site-packages/seaborn/regression.py:232\u001b[0m, in \u001b[0;36m_RegressionPlotter.fit_fast.<locals>.reg_func\u001b[0;34m(_x, _y)\u001b[0m\n\u001b[1;32m    231\u001b[0m \u001b[38;5;28;01mdef\u001b[39;00m \u001b[38;5;21mreg_func\u001b[39m(_x, _y):\n\u001b[0;32m--> 232\u001b[0m     \u001b[38;5;28;01mreturn\u001b[39;00m \u001b[43mnp\u001b[49m\u001b[38;5;241;43m.\u001b[39;49m\u001b[43mlinalg\u001b[49m\u001b[38;5;241;43m.\u001b[39;49m\u001b[43mpinv\u001b[49m\u001b[43m(\u001b[49m\u001b[43m_x\u001b[49m\u001b[43m)\u001b[49m\u001b[38;5;241;43m.\u001b[39;49m\u001b[43mdot\u001b[49m\u001b[43m(\u001b[49m\u001b[43m_y\u001b[49m\u001b[43m)\u001b[49m\n",
      "\u001b[0;31mTypeError\u001b[0m: can't multiply sequence by non-int of type 'float'"
     ]
    },
    {
     "data": {
      "image/png": "[encoded data removed]",
      "text/plain": [
       "<Figure size 500x500 with 1 Axes>"
      ]
     },
     "metadata": {},
     "output_type": "display_data"
    }
   ],
   "source": [
    "# Create a scatterplot for the \"Year\" and \"Value\" columns \n",
    "scat_1 =sns.lmplot(x = 'Value', y = 'Year', data = df_1)"
   ]
  },
  {
   "cell_type": "markdown",
   "id": "e0de86b0-ef05-4666-8993-e02f2d093469",
   "metadata": {
    "tags": []
   },
   "source": [
    "#### The data shows that since 2009 most countries in Europe have an intentional homicide rate between under 5 per 100000 women. Before 2009 however the rates were higher in some countries with four cases of over 12 women. "
   ]
  },
  {
   "cell_type": "markdown",
   "id": "8479c37a-c648-4d09-993b-4444e2685eb0",
   "metadata": {},
   "source": [
    "## Step 4: Creating pairplots"
   ]
  },
  {
   "cell_type": "code",
   "execution_count": null,
   "id": "6cf07af4-94b6-42b4-8756-739578cb1a52",
   "metadata": {},
   "outputs": [],
   "source": [
    "# selecting variables needed for the pair plot for data on intentional homicide\n",
    "pair_1 = df_1[['EU Region', 'Value']]"
   ]
  },
  {
   "cell_type": "code",
   "execution_count": null,
   "id": "1c664deb-3c2f-46af-974a-57de62d84a33",
   "metadata": {},
   "outputs": [],
   "source": [
    "# Create a pair plot \n",
    "pp_1=sns.pairplot(pair_1, hue= 'EU Region')\n"
   ]
  },
  {
   "cell_type": "markdown",
   "id": "8df797ee-43e9-409b-81c1-486473af0294",
   "metadata": {},
   "source": [
    "#### The pair plot of the data on intentional homicide shows that there are regional differences when it comes to female intentional homicide rate."
   ]
  },
  {
   "cell_type": "code",
   "execution_count": null,
   "id": "3844d1df-a814-49b2-97ef-52f5b3e00ec3",
   "metadata": {},
   "outputs": [],
   "source": [
    "# selecting variables needed for the data on legislation on domestic violence\n",
    "pair_2 = df_2[['EU Region', 'Value']]"
   ]
  },
  {
   "cell_type": "code",
   "execution_count": null,
   "id": "6d46fa81-0b5c-4d35-8116-3d7a724a786c",
   "metadata": {},
   "outputs": [],
   "source": [
    "# Create a pair plot \n",
    "pp_2=sns.pairplot(pair_2, hue= 'EU Region')"
   ]
  },
  {
   "cell_type": "markdown",
   "id": "be6dac4b-6828-4b00-96e0-875f00045559",
   "metadata": {},
   "source": [
    "#### The pair plot of the data on legislation on domestic violence shows that there are minimal regional differences in Europe, with Southern Europe having better legislative conditions."
   ]
  },
  {
   "cell_type": "code",
   "execution_count": null,
   "id": "22ed7583-eadc-49fe-b8e6-da9aa60cd87b",
   "metadata": {},
   "outputs": [],
   "source": [
    "# selecting variables needed for the data on legislation on sexual harassment at work\n",
    "pair_3 = df_3[['EU Region', 'Value']]"
   ]
  },
  {
   "cell_type": "code",
   "execution_count": null,
   "id": "6720b6f2-b365-4d49-bd90-851720360d3c",
   "metadata": {},
   "outputs": [],
   "source": [
    "# Create a pair plot \n",
    "pp_3=sns.pairplot(pair_3, hue='EU Region')"
   ]
  },
  {
   "cell_type": "markdown",
   "id": "74cc107d-506d-4700-ad40-e377f64f4752",
   "metadata": {},
   "source": [
    "#### The pair plot of the data on legislation on sexual harassment at work shows that there are regional differences."
   ]
  },
  {
   "cell_type": "markdown",
   "id": "7d9ad096-0e29-4063-8e54-7646cc10c5fd",
   "metadata": {},
   "source": [
    "## Step 5: Creating a histoplot"
   ]
  },
  {
   "cell_type": "code",
   "execution_count": null,
   "id": "48122bad-60b9-4bd2-adf2-d3e79d3059f2",
   "metadata": {},
   "outputs": [],
   "source": [
    "# histogram to visualize the distribution of the variables in each subset\n",
    "# data on intentional homicide\n",
    "his_1 = sns.histplot(df_1['Value'], bins = 20, kde = True)"
   ]
  },
  {
   "cell_type": "markdown",
   "id": "387609c2-796c-4481-b8db-cbc7eb349fe9",
   "metadata": {},
   "source": [
    "#### Most countries have zero intentional homicide. The data with a value higher that 5 is very little."
   ]
  },
  {
   "cell_type": "code",
   "execution_count": null,
   "id": "8abf46d9-25b9-4a66-8f81-1bc681b84266",
   "metadata": {
    "tags": []
   },
   "outputs": [],
   "source": [
    "# data on legislation on domestic violence\n",
    "his_2 = sns.histplot(df_2['Value'], bins = 20, kde = True)"
   ]
  },
  {
   "cell_type": "markdown",
   "id": "ffdbb1ca-3b74-484d-93b1-25b826dbe677",
   "metadata": {},
   "source": [
    "#### Most countries do have laws on domestic violence."
   ]
  },
  {
   "cell_type": "code",
   "execution_count": null,
   "id": "30c978a0-994c-4d14-98c4-cb495b2f6352",
   "metadata": {
    "tags": []
   },
   "outputs": [],
   "source": [
    "# data on legislaton on sexual harassment at work\n",
    "his_3 = sns.histplot(df_3['Value'], bins = 20, kde = True)"
   ]
  },
  {
   "cell_type": "markdown",
   "id": "e5e192cd-f0a9-4479-aa5b-ae3aba89c985",
   "metadata": {},
   "source": [
    "#### There are even more laws on sexual harassment at work!"
   ]
  },
  {
   "cell_type": "markdown",
   "id": "772136c0-c905-4e70-98df-566980c2d759",
   "metadata": {},
   "source": [
    "## Step 6: Creating categorical plots"
   ]
  },
  {
   "cell_type": "code",
   "execution_count": null,
   "id": "bab8b170-6f70-471b-8655-a86c0fe8f7ed",
   "metadata": {},
   "outputs": [],
   "source": [
    "# Create a categorical plot for each subset\n",
    "# data on intentional homicide\n",
    "sns.set(style=\"ticks\")\n",
    "cat_1 = sns.catplot(x=\"Country Code\", y=\"Value\", hue=\"EU Region\", data=df_1)"
   ]
  },
  {
   "cell_type": "markdown",
   "id": "a0603580-6602-410b-9ea6-a7cafea5755d",
   "metadata": {},
   "source": [
    "#### Eastern Europe (green) has the highest intentional homicide rate among all regions with Northern Europe following."
   ]
  },
  {
   "cell_type": "code",
   "execution_count": null,
   "id": "a764583f-31a5-42c5-adb3-1601a1d01e91",
   "metadata": {},
   "outputs": [],
   "source": [
    "# data on legislation on domestic violence\n",
    "sns.set(style=\"ticks\")\n",
    "cat_2 = sns.catplot(x=\"Country Code\", y=\"Value\", hue=\"EU Region\", data=df_2)"
   ]
  },
  {
   "cell_type": "markdown",
   "id": "fc83620e-18a7-438b-8ebb-33d63ecc570f",
   "metadata": {},
   "source": [
    "#### same results as the pairplot.(see step 4)"
   ]
  },
  {
   "cell_type": "code",
   "execution_count": null,
   "id": "7cd721a8-442f-491c-8950-70e04db46439",
   "metadata": {},
   "outputs": [],
   "source": [
    "# data on legislation on sexual harassment at work\n",
    "sns.set(style=\"ticks\")\n",
    "cat_3 = sns.catplot(x=\"Country Code\", y=\"Value\", hue=\"EU Region\", data=df_3)"
   ]
  },
  {
   "cell_type": "markdown",
   "id": "f7183747-79df-498c-9f0e-0c1da5a10f41",
   "metadata": {},
   "source": [
    "#### same results as the pairplots. (See step 4)"
   ]
  },
  {
   "cell_type": "markdown",
   "id": "39fc8328-cb07-4a7b-9711-226de51b09fc",
   "metadata": {},
   "source": [
    "## Step 7: Saving subsets"
   ]
  },
  {
   "cell_type": "code",
   "execution_count": null,
   "id": "0359f34c-c1f3-44f3-ba72-aa78ee5bfabf",
   "metadata": {
    "tags": []
   },
   "outputs": [],
   "source": [
    "# exporting as pkl\n",
    "df_1.to_pickle(os.path.join(path,'02 Data', 'Clean Data', 'homicide.pkl'))"
   ]
  },
  {
   "cell_type": "code",
   "execution_count": null,
   "id": "6f9309dc-af7d-4f1d-9ac4-a4a1a55e05a7",
   "metadata": {},
   "outputs": [],
   "source": [
    "# exporting as pkl\n",
    "df_2.to_pickle(os.path.join(path,'02 Data', 'Clean Data', 'l_domestic.pkl'))"
   ]
  },
  {
   "cell_type": "code",
   "execution_count": null,
   "id": "8f9acdae-98ba-4af3-a273-a0d938a3d73b",
   "metadata": {},
   "outputs": [],
   "source": [
    "# exporting as pkl\n",
    "df_3.to_pickle(os.path.join(path,'02 Data', 'Clean Data', 'l_harassement.pkl'))"
   ]
  },
  {
   "cell_type": "code",
   "execution_count": 19,
   "id": "1cfdd1ff-9ada-4968-ac07-fa3648658f54",
   "metadata": {
    "tags": []
   },
   "outputs": [],
   "source": [
    "# exporting as csv\n",
    "df_1.to_csv(os.path.join(path,'02 Data', 'Clean Data', 'homicide.csv'))"
   ]
  },
  {
   "cell_type": "code",
   "execution_count": 20,
   "id": "f86a24e7-4bf4-4ae3-ab57-52e0875fce0f",
   "metadata": {},
   "outputs": [],
   "source": [
    "# exporting as csv\n",
    "df_2.to_csv(os.path.join(path,'02 Data', 'Clean Data', 'l_domestic.csv'))"
   ]
  },
  {
   "cell_type": "code",
   "execution_count": 21,
   "id": "b2e9e815-c9b6-4ffe-9191-221791fe97b7",
   "metadata": {},
   "outputs": [],
   "source": [
    "# exporting as csv\n",
    "df_3.to_csv(os.path.join(path,'02 Data', 'Clean Data', 'l_harassement.csv'))"
   ]
  },
  {
   "cell_type": "code",
   "execution_count": null,
   "id": "c34a9757-0559-4fce-a2a6-bf8f7750175c",
   "metadata": {},
   "outputs": [],
   "source": []
  }
 ],
 "metadata": {
  "kernelspec": {
   "display_name": "Python 3 (ipykernel)",
   "language": "python",
   "name": "python3"
  },
  "language_info": {
   "codemirror_mode": {
    "name": "ipython",
    "version": 3
   },
   "file_extension": ".py",
   "mimetype": "text/x-python",
   "name": "python",
   "nbconvert_exporter": "python",
   "pygments_lexer": "ipython3",
   "version": "3.10.9"
  }
 },
 "nbformat": 4,
 "nbformat_minor": 5
}
